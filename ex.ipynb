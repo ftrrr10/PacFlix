{
 "cells": [
  {
   "cell_type": "code",
   "execution_count": 16,
   "metadata": {},
   "outputs": [],
   "source": [
    "data = {\n",
    "    \"Shandy\" : ['Basic Plan', 12, 'shandy-2134'],\n",
    "    \"Cahya\" : ['Standard Plan', 24, 'cahya-123'],\n",
    "    \"Ana\" : ['Premium Plan', 5, 'nana-12'],\n",
    "    \"Bagus\" : ['Basic Plan', 11, 'bagus-1234']\n",
    "}"
   ]
  },
  {
   "cell_type": "code",
   "execution_count": 17,
   "metadata": {},
   "outputs": [],
   "source": [
    "from tabulate import tabulate"
   ]
  },
  {
   "cell_type": "code",
   "execution_count": 18,
   "metadata": {},
   "outputs": [
    {
     "name": "stdout",
     "output_type": "stream",
     "text": [
      "-----------  -------------  ------------  ----------\n",
      "Basic Plan   Standard Plan  Premium Plan  Basic Plan\n",
      "12           24             5             11\n",
      "shandy-2134  cahya-123      nana-12       bagus-1234\n",
      "-----------  -------------  ------------  ----------\n"
     ]
    }
   ],
   "source": [
    "print(tabulate(data))"
   ]
  },
  {
   "cell_type": "code",
   "execution_count": 30,
   "metadata": {},
   "outputs": [],
   "source": [
    "data_plan = {\n",
    "            'Basic Plan' : [True, True, True, False, False, 1, '3rd party Movie only', 120_000 ],\n",
    "            'Standard Plan': [True, True, True, True, False, 2, 'Basic Plan  Content + Sports', 160_000 ],\n",
    "            'Premium Plan' : [True, True, True, True, True, 4, \"Basic Plan + Standard Plan + Pacflix Original Series\", 200_000],\n",
    "            'Services' : [\"Bisa Stream\", \"Bisa Download\", \"Kualitas SD\", \"Kualitas HD\", \"Kualitas UHD\", \"Number of Devices\", \"Jenis Konten\", \"Harga\"],\n",
    "        }"
   ]
  },
  {
   "cell_type": "code",
   "execution_count": 68,
   "metadata": {},
   "outputs": [],
   "source": [
    "class User:\n",
    "\n",
    "    data_user = data\n",
    "\n",
    "    def __init__(self, username, duration_plan, current_plan, reference ):\n",
    "        self.username = username\n",
    "        self.duration_plan = duration_plan\n",
    "        self.current_plan = current_plan\n",
    "        self.reference = reference\n",
    "    \n",
    "    def check_benefit(self):\n",
    "        data_plan = {\n",
    "            'Basic Plan' : [True, True, True, False, False, 1, '3rd party Movie only', 120_000 ],\n",
    "            'Standard Plan': [True, True, True, True, False, 2, 'Basic Plan  Content + Sports', 160_000 ],\n",
    "            'Premium Plan' : [True, True, True, True, True, 4, \"Basic Plan + Standard Plan + Pacflix Original Series\", 200_000],\n",
    "            'Services' : [\"Bisa Stream\", \"Bisa Download\", \"Kualitas SD\", \"Kualitas HD\", \"Kualitas UHD\", \"Number of Devices\", \"Jenis Konten\", \"Harga\"],\n",
    "        }\n",
    "\n",
    "        print(\"PacFlix Plan List\\n\")\n",
    "        print(tabulate(data_plan, headers='keys'))\n",
    "\n",
    "    def check_plan(self, username):\n",
    "        try:\n",
    "            get_data = self.data_user[username]\n",
    "            current_plan = get_data[0]\n",
    "            duration_plan = get_data[1]\n",
    "            reference = get_data[2]\n",
    "        except:\n",
    "            raise Exception('Username not found')\n",
    "        \n",
    "        current_plan = get_data[0]\n",
    "        duration_plan = get_data[1]\n",
    "        reference = get_data[2]\n",
    "\n",
    "        print(current_plan)\n",
    "        print(duration_plan, 'bulan')\n",
    "\n",
    "        print(f\"/n{current_plan} PacFlix Benefit List\\n\")\n",
    "        print(tabulate({\n",
    "            current_plan: data_plan[current_plan],\n",
    "            \"Services\" : data_plan[\"Services\"]\n",
    "        }, headers=\"keys\"))\n",
    "       \n",
    "        \n",
    "    def upgrade_plan(self, username, current_plan, new_plan):\n",
    "        try:\n",
    "            get_data = self.data_user[username]\n",
    "        except:\n",
    "            raise Exception(\"Username not found\")\n",
    "        \n",
    "        level_plan = {\n",
    "            \"Basic Plan\" : 1,\n",
    "            \"Standard Plan\" : 2,\n",
    "            \"Premium Plan\" : 3\n",
    "        }\n",
    "\n",
    "        try: \n",
    "            assert level_plan[new_plan] >= level_plan[current_plan], \"Error : Downgrade\"\n",
    "        except AttributeError as error:\n",
    "            raise Exception(error)\n",
    "        \n",
    "        \n",
    "        \n",
    "        duration_plan = get_data[1]\n",
    "\n",
    "        harga_final = data_plan[new_plan][-1]\n",
    "\n",
    "        if(duration_plan>12):\n",
    "\n",
    "            harga_final = harga_final*(100-5)/100\n",
    "\n",
    "        return harga_final\n",
    "    \n",
    "    \n",
    "\n",
    "    def pick_plan(self, new_plan, reference):\n",
    "        list_reference = [info[-1] for info in self.data_user.values()]\n",
    "        if new_plan not in data_plan:\n",
    "            print(f'{new_plan} tidak tersedia.')\n",
    "            return\n",
    "        \n",
    "        discount = 0.04 if reference in list_reference else 0\n",
    "        new_price = data_plan[new_plan][-1] * (1 - discount)\n",
    "        print(f'Pilih {new_plan} dengan refferal {reference}. Harga final: Rp {new_price:,.2f}')\n",
    "        \n",
    "        \n",
    "\n",
    "        \n",
    "    "
   ]
  },
  {
   "cell_type": "code",
   "execution_count": 39,
   "metadata": {},
   "outputs": [
    {
     "name": "stdout",
     "output_type": "stream",
     "text": [
      "Shandy\n",
      "Basic Plan\n",
      "12\n",
      "shandy-2134\n",
      " \n",
      "PacFlix Plan List\n",
      "\n",
      "Basic Plan            Standard Plan                 Premium Plan                                          Services\n",
      "--------------------  ----------------------------  ----------------------------------------------------  -----------------\n",
      "True                  True                          True                                                  Bisa Stream\n",
      "True                  True                          True                                                  Bisa Download\n",
      "True                  True                          True                                                  Kualitas SD\n",
      "False                 True                          True                                                  Kualitas HD\n",
      "False                 False                         True                                                  Kualitas UHD\n",
      "1                     2                             4                                                     Number of Devices\n",
      "3rd party Movie only  Basic Plan  Content + Sports  Basic Plan + Standard Plan + Pacflix Original Series  Jenis Konten\n",
      "120000                160000                        200000                                                Harga\n"
     ]
    }
   ],
   "source": [
    "user_1 = User('Shandy', 12, 'Basic Plan', 'shandy-2134')\n",
    "print(user_1.username)\n",
    "print(user_1.current_plan)\n",
    "print(user_1.duration_plan)\n",
    "print(user_1.reference)\n",
    "print(\" \")\n",
    "\n",
    "user_1.check_benefit()"
   ]
  },
  {
   "cell_type": "code",
   "execution_count": 40,
   "metadata": {},
   "outputs": [
    {
     "data": {
      "text/plain": [
       "{'Shandy': ['Basic Plan', 12, 'shandy-2134'],\n",
       " 'Cahya': ['Standard Plan', 24, 'cahya-123'],\n",
       " 'Ana': ['Premium Plan', 5, 'nana-12'],\n",
       " 'Bagus': ['Basic Plan', 11, 'bagus-1234']}"
      ]
     },
     "execution_count": 40,
     "metadata": {},
     "output_type": "execute_result"
    }
   ],
   "source": [
    "user_1.data_user"
   ]
  },
  {
   "cell_type": "code",
   "execution_count": 58,
   "metadata": {},
   "outputs": [
    {
     "name": "stdout",
     "output_type": "stream",
     "text": [
      "Basic Plan\n",
      "12 bulan\n",
      "/nBasic Plan PacFlix Benefit List\n",
      "\n",
      "Basic Plan            Services\n",
      "--------------------  -----------------\n",
      "True                  Bisa Stream\n",
      "True                  Bisa Download\n",
      "True                  Kualitas SD\n",
      "False                 Kualitas HD\n",
      "False                 Kualitas UHD\n",
      "1                     Number of Devices\n",
      "3rd party Movie only  Jenis Konten\n",
      "120000                Harga\n"
     ]
    }
   ],
   "source": [
    "user_1.check_plan('Shandy')"
   ]
  },
  {
   "cell_type": "code",
   "execution_count": 59,
   "metadata": {},
   "outputs": [
    {
     "data": {
      "text/plain": [
       "160000"
      ]
     },
     "execution_count": 59,
     "metadata": {},
     "output_type": "execute_result"
    }
   ],
   "source": [
    "user_1.upgrade_plan(\"Shandy\", \"Basic Plan\", \"Standard Plan\")"
   ]
  },
  {
   "cell_type": "code",
   "execution_count": null,
   "metadata": {},
   "outputs": [
    {
     "ename": "AttributeError",
     "evalue": "'User' object has no attribute 'pick_plan'",
     "output_type": "error",
     "traceback": [
      "\u001b[1;31m---------------------------------------------------------------------------\u001b[0m",
      "\u001b[1;31mAttributeError\u001b[0m                            Traceback (most recent call last)",
      "Cell \u001b[1;32mIn[69], line 1\u001b[0m\n\u001b[1;32m----> 1\u001b[0m \u001b[43muser_1\u001b[49m\u001b[38;5;241;43m.\u001b[39;49m\u001b[43mpick_plan\u001b[49m(\u001b[38;5;124m\"\u001b[39m\u001b[38;5;124mStandard Plan\u001b[39m\u001b[38;5;124m\"\u001b[39m, \u001b[38;5;124m\"\u001b[39m\u001b[38;5;124mshandy-2134\u001b[39m\u001b[38;5;124m\"\u001b[39m)\n",
      "\u001b[1;31mAttributeError\u001b[0m: 'User' object has no attribute 'pick_plan'"
     ]
    }
   ],
   "source": [
    "user_1.pick_plan(\"Standard Plan\", \"shandy-2134\") "
   ]
  },
  {
   "cell_type": "code",
   "execution_count": 82,
   "metadata": {},
   "outputs": [],
   "source": [
    "class NewUser(User):\n",
    "    def __init__(self, username, current_plan = None, duration_plan = None, reference=None):\n",
    "        super().__init__(username, current_plan, duration_plan, reference)\n",
    "        self.username = username\n",
    "\n",
    "    def pick_plan(self, new_plan, code_refferal=None):\n",
    "        list_reference = [info[-1] for info in self.data_user.values()]\n",
    "\n",
    "        if code_refferal in list_reference:\n",
    "            harga_final = data_plan[new_plan][-1]\n",
    "            harga_final = harga_final*(100-4)/100\n",
    "            return harga_final\n",
    "        else:\n",
    "            harga_final = data_plan[new_plan][-1]\n",
    "            return harga_final\n",
    "        "
   ]
  },
  {
   "cell_type": "code",
   "execution_count": 83,
   "metadata": {},
   "outputs": [],
   "source": [
    "faizal = NewUser(\"faizal anjay\")"
   ]
  },
  {
   "cell_type": "code",
   "execution_count": 85,
   "metadata": {},
   "outputs": [
    {
     "data": {
      "text/plain": [
       "{'Shandy': ['Basic Plan', 12, 'shandy-2134'],\n",
       " 'Cahya': ['Standard Plan', 24, 'cahya-123'],\n",
       " 'Ana': ['Premium Plan', 5, 'nana-12'],\n",
       " 'Bagus': ['Basic Plan', 11, 'bagus-1234']}"
      ]
     },
     "execution_count": 85,
     "metadata": {},
     "output_type": "execute_result"
    }
   ],
   "source": [
    "faizal.data_user"
   ]
  },
  {
   "cell_type": "code",
   "execution_count": null,
   "metadata": {},
   "outputs": [],
   "source": []
  }
 ],
 "metadata": {
  "kernelspec": {
   "display_name": "Python 3",
   "language": "python",
   "name": "python3"
  },
  "language_info": {
   "codemirror_mode": {
    "name": "ipython",
    "version": 3
   },
   "file_extension": ".py",
   "mimetype": "text/x-python",
   "name": "python",
   "nbconvert_exporter": "python",
   "pygments_lexer": "ipython3",
   "version": "3.13.0"
  }
 },
 "nbformat": 4,
 "nbformat_minor": 2
}
